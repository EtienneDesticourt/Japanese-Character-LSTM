{
 "cells": [
  {
   "cell_type": "code",
   "execution_count": 1,
   "metadata": {},
   "outputs": [
    {
     "name": "stderr",
     "output_type": "stream",
     "text": [
      "Using TensorFlow backend.\n"
     ]
    }
   ],
   "source": [
    "from __future__ import print_function\n",
    "from keras.models import load_model\n",
    "import numpy as np\n",
    "import sklearn\n",
    "import sklearn.model_selection\n",
    "from utils import encode, get_save_callback\n",
    "from models import build_model"
   ]
  },
  {
   "cell_type": "code",
   "execution_count": 2,
   "metadata": {},
   "outputs": [],
   "source": [
    "with open(\"data\\\\full_text.txt\", \"r\", encoding=\"utf8\") as f:\n",
    "    full_text = f.read()"
   ]
  },
  {
   "cell_type": "code",
   "execution_count": 3,
   "metadata": {},
   "outputs": [],
   "source": [
    "labels = list(np.load(\"data\\\\labels.npy\"))"
   ]
  },
  {
   "cell_type": "code",
   "execution_count": 4,
   "metadata": {},
   "outputs": [],
   "source": [
    "SEQUENCE_LENGTH = 10\n",
    "NUM_INPUTS = len(labels)\n",
    "TEST_SPLIT_PERCENTAGE=0.2\n",
    "VAL_SPLIT_PERCENTAGE=0.2\n",
    "MODEL = \"M5\"\n",
    "model_id = 13"
   ]
  },
  {
   "cell_type": "code",
   "execution_count": 5,
   "metadata": {
    "collapsed": true
   },
   "outputs": [],
   "source": [
    "model_id += 1\n",
    "model = build_model(MODEL, SEQUENCE_LENGTH, NUM_INPUTS)"
   ]
  },
  {
   "cell_type": "code",
   "execution_count": 6,
   "metadata": {
    "collapsed": true
   },
   "outputs": [],
   "source": [
    "training_text = full_text[2000000:]"
   ]
  },
  {
   "cell_type": "code",
   "execution_count": 7,
   "metadata": {},
   "outputs": [
    {
     "name": "stdout",
     "output_type": "stream",
     "text": [
      "1212191532\n",
      "0\n",
      "6000\n",
      "12000\n",
      "18000\n",
      "24000\n",
      "30000\n",
      "36000\n",
      "42000\n",
      "48000\n",
      "54000\n",
      "60000\n",
      "66000\n",
      "72000\n",
      "78000\n",
      "84000\n",
      "90000\n",
      "96000\n",
      "102000\n",
      "108000\n",
      "114000\n",
      "120000\n",
      "126000\n",
      "132000\n",
      "138000\n",
      "144000\n",
      "150000\n"
     ]
    }
   ],
   "source": [
    "x_shape = (len(training_text)//2000//3, SEQUENCE_LENGTH-1, len(labels))\n",
    "i = 1\n",
    "for j in x_shape:\n",
    "    i *= j\n",
    "print(i)\n",
    "x = np.zeros(x_shape, dtype=np.bool)\n",
    "y = np.zeros((x_shape[0], len(labels)), dtype=np.bool)\n",
    "\n",
    "for rid, i in enumerate(range(0, len(training_text)//2000-3, 3)):\n",
    "    for j in range(SEQUENCE_LENGTH-1):\n",
    "        character = training_text[i+j]\n",
    "        index = encode(character, labels)\n",
    "        x[rid, j, index] = 1\n",
    "    index = encode(training_text[i+j+1], labels)\n",
    "    y[rid, index] = 1\n",
    "    if i % 2000 == 0:\n",
    "        print(i)"
   ]
  },
  {
   "cell_type": "code",
   "execution_count": 8,
   "metadata": {
    "collapsed": true
   },
   "outputs": [],
   "source": [
    "x, y = sklearn.utils.shuffle(x, y, random_state=0)"
   ]
  },
  {
   "cell_type": "code",
   "execution_count": 9,
   "metadata": {
    "collapsed": true
   },
   "outputs": [],
   "source": [
    "x_train, x_test, y_train, y_test = sklearn.model_selection.train_test_split(x, y, test_size=TEST_SPLIT_PERCENTAGE, random_state=42)"
   ]
  },
  {
   "cell_type": "code",
   "execution_count": null,
   "metadata": {
    "collapsed": true
   },
   "outputs": [],
   "source": [
    "del x\n",
    "del y"
   ]
  },
  {
   "cell_type": "code",
   "execution_count": null,
   "metadata": {},
   "outputs": [
    {
     "name": "stdout",
     "output_type": "stream",
     "text": [
      "Train on 32888 samples, validate on 8222 samples\n",
      "Epoch 1/3\n",
      "32768/32888 [============================>.] - ETA: 0s - loss: 5.8307 - acc: 0.0558Epoch 00000: saving model to weights\\LSTM_14_.00-0.056-5.830-0.094-5.391.h5\n",
      "32888/32888 [==============================] - 50s - loss: 5.8300 - acc: 0.0561 - val_loss: 5.3910 - val_acc: 0.0937\n",
      "Epoch 2/3\n",
      "32768/32888 [============================>.] - ETA: 0s - loss: 4.8982 - acc: 0.1560Epoch 00001: saving model to weights\\LSTM_14_.01-0.156-4.898-0.188-4.742.h5\n",
      "32888/32888 [==============================] - 51s - loss: 4.8983 - acc: 0.1560 - val_loss: 4.7422 - val_acc: 0.1880\n",
      "Epoch 3/3\n",
      "20736/32888 [=================>............] - ETA: 17s - loss: 4.3084 - acc: 0.2266"
     ]
    }
   ],
   "source": [
    "model.fit(x_train, y_train, batch_size=256, epochs=3, callbacks=[get_save_callback(model_id)], validation_split=VAL_SPLIT_PERCENTAGE)"
   ]
  },
  {
   "cell_type": "code",
   "execution_count": null,
   "metadata": {
    "collapsed": true
   },
   "outputs": [],
   "source": [
    "del x_train, y_train, x_test, y_test"
   ]
  },
  {
   "cell_type": "code",
   "execution_count": null,
   "metadata": {
    "collapsed": true
   },
   "outputs": [],
   "source": []
  }
 ],
 "metadata": {
  "kernelspec": {
   "display_name": "Python 3",
   "language": "python",
   "name": "python3"
  },
  "language_info": {
   "codemirror_mode": {
    "name": "ipython",
    "version": 3
   },
   "file_extension": ".py",
   "mimetype": "text/x-python",
   "name": "python",
   "nbconvert_exporter": "python",
   "pygments_lexer": "ipython3",
   "version": "3.6.1"
  }
 },
 "nbformat": 4,
 "nbformat_minor": 2
}
